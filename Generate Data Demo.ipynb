{
 "cells": [
  {
   "cell_type": "code",
   "execution_count": 0,
   "metadata": {
    "application/vnd.databricks.v1+cell": {
     "cellMetadata": {
      "byteLimit": 2048000,
      "rowLimit": 10000
     },
     "inputWidgets": {},
     "nuid": "0f548685-e941-4050-acfd-7f829dbe591f",
     "showTitle": false,
     "title": ""
    }
   },
   "outputs": [],
   "source": [
    "%pip install dbldatagen"
   ]
  },
  {
   "cell_type": "code",
   "execution_count": 0,
   "metadata": {
    "application/vnd.databricks.v1+cell": {
     "cellMetadata": {
      "byteLimit": 2048000,
      "rowLimit": 10000
     },
     "inputWidgets": {},
     "nuid": "1e44aebd-abcc-44f6-910a-3a041ef5cdf0",
     "showTitle": false,
     "title": ""
    }
   },
   "outputs": [],
   "source": [
    "from pyspark.sql.types import FloatType, IntegerType, StringType,TimestampType, DecimalType\n",
    "from pyspark.sql.functions import col, date_format\n",
    "import dbldatagen as dg\n",
    "import pyspark.sql.functions as F\n",
    "\n",
    "import re\n",
    "\n",
    "import random\n"
   ]
  },
  {
   "cell_type": "code",
   "execution_count": 0,
   "metadata": {
    "application/vnd.databricks.v1+cell": {
     "cellMetadata": {
      "byteLimit": 2048000,
      "rowLimit": 10000
     },
     "inputWidgets": {},
     "nuid": "1c4fb0f0-adfe-4925-9258-a66471552118",
     "showTitle": false,
     "title": ""
    }
   },
   "outputs": [],
   "source": [
    "shuffle_partitions_requested = 12 * 4\n",
    "\n",
    "spark.conf.set(\"spark.sql.shuffle.partitions\", shuffle_partitions_requested)\n",
    "spark.conf.set(\"spark.sql.execution.arrow.pyspark.enabled\", \"true\")\n",
    "spark.conf.set(\"spark.sql.execution.arrow.maxRecordsPerBatch\", 20000)"
   ]
  },
  {
   "cell_type": "code",
   "execution_count": 0,
   "metadata": {
    "application/vnd.databricks.v1+cell": {
     "cellMetadata": {
      "byteLimit": 2048000,
      "rowLimit": 10000
     },
     "inputWidgets": {},
     "nuid": "1887c5de-2aa9-40ce-8440-5e62918afe85",
     "showTitle": false,
     "title": ""
    }
   },
   "outputs": [],
   "source": [
    "row_count = 1000\n",
    "\n",
    "unique_stores = 20\n",
    "unique_employees = 100\n",
    "unique_customers = 700\n",
    "\n",
    "partitions_requested = 4\n",
    "\n",
    "df1_data_generator = (\n",
    "    dg.DataGenerator(spark, name=\"test_data_set1\", rows=row_count,\n",
    "                     partitions=partitions_requested, randomSeedMethod=\"hash_fieldname\", verbose=True)\n",
    "    .withIdOutput()\n",
    "    .withColumn(\"StoreId\", IntegerType(), minValue=0, maxValue=unique_stores-1, random=True)\n",
    ")\n",
    "\n",
    "df1 = df1_data_generator.build()\n",
    "\n",
    "display(df1)"
   ]
  },
  {
   "cell_type": "code",
   "execution_count": 0,
   "metadata": {
    "application/vnd.databricks.v1+cell": {
     "cellMetadata": {
      "byteLimit": 2048000,
      "rowLimit": 10000
     },
     "inputWidgets": {},
     "nuid": "44c66f9b-f8a5-4ee9-ba66-21fe5944e9a3",
     "showTitle": false,
     "title": ""
    }
   },
   "outputs": [],
   "source": [
    "df2_data_generator = (\n",
    "    dg.DataGenerator(spark, name=\"test_data_set2\", rows=row_count,\n",
    "                     partitions=partitions_requested, randomSeedMethod=\"hash_fieldname\", verbose=True)\n",
    "    .withIdOutput()\n",
    "    .withColumn(\"StoreId\", IntegerType(), minValue=0, maxValue=unique_stores-1, random=True)\n",
    "    .withColumn(\"Timestamp\", TimestampType(), begin=\"2013-01-01 01:00:00\", end=\"2023-10-31 23:59:00\", interval=\"1 hour\", random=True)\n",
    "    .withColumn(\"Amount\", DecimalType(5, 2), expr=\"((rand() + 0.1) * 350)\")\n",
    ")\n",
    "\n",
    "df2 = df2_data_generator.build()\n",
    "\n",
    "display(df2)"
   ]
  },
  {
   "cell_type": "code",
   "execution_count": 0,
   "metadata": {
    "application/vnd.databricks.v1+cell": {
     "cellMetadata": {
      "byteLimit": 2048000,
      "rowLimit": 10000
     },
     "inputWidgets": {},
     "nuid": "2d02bb9e-1b7f-4baa-8883-7ceb24375bff",
     "showTitle": false,
     "title": ""
    }
   },
   "outputs": [],
   "source": [
    "def get_employees(unique_employees: int, unique_stores: int) -> tuple([list,list]):\n",
    "    \"\"\"\n",
    "    Generate random allocation of employees to stores.\n",
    "\n",
    "    Parameters:\n",
    "    - unique_employees (int): The total number of unique employees available for allocation.\n",
    "    - unique_stores (int): The number of unique stores where employees need to be allocated.\n",
    "\n",
    "    Returns:\n",
    "    - employees_per_store (list): A list containing the number of employees assigned to each store.\n",
    "    - employees_per_store_cumulative (list): A list of lists representing the cumulative employee\n",
    "      allocation for each store.\n",
    "\n",
    "    The function uses random sampling to generate distinct bounds on the employee Ids for each store, ensuring Ids are assigned individually. It then creates a cumulative list of employee Ids for each store based\n",
    "    on the generated bounds.\n",
    "\n",
    "    Example usage:\n",
    "    employees_per_store, employees_per_store_cumulative = get_employees(10, 3)\n",
    "    print(f\"Employees per store: {employees_per_store}\")\n",
    "    print(f\"Cumulative employee allocation: {employees_per_store_cumulative}\")\n",
    "    \"\"\"\n",
    "\n",
    "    # Generate random Id boundaries for employees in each store. Start at 2nd element and finish at 2nd last element, with a step of 2 to prevent any stores with a single employee.\n",
    "    employees_per_store_id_bounds = sorted(random.sample(\n",
    "        range(2, unique_employees-1, 2), unique_stores))\n",
    "\n",
    "    # print(f\"id bounds {employees_per_store_id_bounds} \\n\")\n",
    "\n",
    "    initialise = 0\n",
    "    employees_per_store_cumulative = []\n",
    "\n",
    "    # Use the Ids to produce nested list of ids per each store\n",
    "    for store in employees_per_store_id_bounds:\n",
    "        if store == max(employees_per_store_id_bounds):\n",
    "            store = unique_employees\n",
    "        employees_per_store_cumulative.append(\n",
    "            list(range(initialise, store)))\n",
    "        initialise = store\n",
    "    print(f\"employees:{employees_per_store_cumulative} \\n\")\n",
    "\n",
    "    # Return the number of employees per store\n",
    "    employees_per_store = [len(i) for i in employees_per_store_cumulative]\n",
    "    print(f\"employees per store {employees_per_store}\")\n",
    "    return employees_per_store, employees_per_store_cumulative\n",
    "\n",
    "employees_per_store, employees_per_store_cumulative = get_employees(unique_employees,unique_stores)"
   ]
  },
  {
   "cell_type": "code",
   "execution_count": 0,
   "metadata": {
    "application/vnd.databricks.v1+cell": {
     "cellMetadata": {
      "byteLimit": 2048000,
      "rowLimit": 10000
     },
     "inputWidgets": {},
     "nuid": "06b4710c-c115-4487-9442-689ff88fdaf4",
     "showTitle": false,
     "title": ""
    }
   },
   "outputs": [],
   "source": [
    "# Define the UDF\n",
    "def employees(store_id,employees_per_store_cumulative):\n",
    "    employee_id = random.choice(employees_per_store_cumulative[store_id])\n",
    "    return employee_id\n",
    "\n",
    "employees_udf = F.udf(employees, IntegerType())"
   ]
  },
  {
   "cell_type": "code",
   "execution_count": 0,
   "metadata": {
    "application/vnd.databricks.v1+cell": {
     "cellMetadata": {
      "byteLimit": 2048000,
      "rowLimit": 10000
     },
     "inputWidgets": {},
     "nuid": "141691e5-6584-4f0a-8676-a50e40b5d439",
     "showTitle": false,
     "title": ""
    }
   },
   "outputs": [],
   "source": [
    "df2 = df2.withColumn(\"EmployeeId\", employees_udf(df2[\"StoreId\"], F.lit(employees_per_store_cumulative)))\n",
    "display(df2)"
   ]
  },
  {
   "cell_type": "code",
   "execution_count": 0,
   "metadata": {
    "application/vnd.databricks.v1+cell": {
     "cellMetadata": {
      "byteLimit": 2048000,
      "rowLimit": 10000
     },
     "inputWidgets": {},
     "nuid": "894b1f77-12b7-49ff-8bc8-925c4b96e2b2",
     "showTitle": false,
     "title": ""
    }
   },
   "outputs": [],
   "source": [
    "print([(i, j) for i, j in enumerate(employees_per_store)])"
   ]
  },
  {
   "cell_type": "code",
   "execution_count": 0,
   "metadata": {
    "application/vnd.databricks.v1+cell": {
     "cellMetadata": {
      "byteLimit": 2048000,
      "rowLimit": 10000
     },
     "inputWidgets": {},
     "nuid": "68db2244-2254-45f0-b3e1-28a855ce3eeb",
     "showTitle": false,
     "title": ""
    }
   },
   "outputs": [],
   "source": [
    "# Total number of employees\n",
    "num_employees = df2.select(F.countDistinct('EmployeeId')).take(1)[0][0]\n",
    "print(f\"Number employees recording a sale: {num_employees} vs total number of employees: {unique_employees}\")\n",
    "\n",
    "if num_employees <= unique_employees:\n",
    "    print(\"Number of employees insert fits logical constraints\")"
   ]
  },
  {
   "cell_type": "code",
   "execution_count": 0,
   "metadata": {
    "application/vnd.databricks.v1+cell": {
     "cellMetadata": {
      "byteLimit": 2048000,
      "rowLimit": 10000
     },
     "inputWidgets": {},
     "nuid": "f4b61071-c9cf-47aa-9575-20ab6c9e9d3d",
     "showTitle": false,
     "title": ""
    }
   },
   "outputs": [],
   "source": [
    "def get_customers(unique_customers: int, unique_stores: int) -> tuple([list,list]):\n",
    "    \"\"\"\n",
    "    Generate random allocation of customers to stores.\n",
    "\n",
    "    Parameters:\n",
    "    - unique_customers (int): The total number of unique customers available for allocation.\n",
    "    - unique_stores (int): The number of unique stores where customers need to be allocated.\n",
    "\n",
    "    Returns:\n",
    "    - customers_per_store (list): A list containing the number of customers assigned to each store.\n",
    "    - customers_per_store_cumulative (list): A list of lists representing the cumulative employee\n",
    "      allocation for each store.\n",
    "\n",
    "    The function uses random sampling to generate distinct bounds on the employee Ids for each store, ensuring Ids are assigned individually. It then creates a cumulative list of employee Ids for each store based\n",
    "    on the generated bounds.\n",
    "\n",
    "    Example usage:\n",
    "    customers_per_store, customers_per_store_cumulative = get_customers(10, 3)\n",
    "    print(f\"customers per store: {customers_per_store}\")\n",
    "    print(f\"Cumulative employee allocation: {customers_per_store_cumulative}\")\n",
    "    \"\"\"\n",
    "\n",
    "    # Generate random Id boundaries for customers in each store. Start at 2nd element and finish at 2nd last element, with a step of 2 to prevent any stores with a single employee.\n",
    "    customers_per_store_id_bounds = sorted(random.sample(\n",
    "        range(2, unique_customers-1, 2), unique_stores))\n",
    "\n",
    "    # print(f\"id bounds {customers_per_store_id_bounds} \\n\")\n",
    "\n",
    "    initialise = 0\n",
    "    customers_per_store_cumulative = []\n",
    "\n",
    "    # Use the Ids to produce nested list of ids per each store\n",
    "    for store in customers_per_store_id_bounds:\n",
    "        if store == max(customers_per_store_id_bounds):\n",
    "            store = unique_customers\n",
    "        customers_per_store_cumulative.append(\n",
    "            list(range(initialise, store)))\n",
    "        initialise = store\n",
    "    print(f\"customers:{customers_per_store_cumulative} \\n\")\n",
    "\n",
    "    # Return the number of customers per store\n",
    "    customers_per_store = [len(i) for i in customers_per_store_cumulative]\n",
    "    print(f\"customers per store {customers_per_store}\")\n",
    "    return customers_per_store, customers_per_store_cumulative\n",
    "\n",
    "customers_per_store, customers_per_store_cumulative = get_customers(unique_customers,unique_stores)"
   ]
  },
  {
   "cell_type": "code",
   "execution_count": 0,
   "metadata": {
    "application/vnd.databricks.v1+cell": {
     "cellMetadata": {
      "byteLimit": 2048000,
      "rowLimit": 10000
     },
     "inputWidgets": {},
     "nuid": "7502c91a-8e59-4554-abb7-611d39b1124e",
     "showTitle": false,
     "title": ""
    }
   },
   "outputs": [],
   "source": [
    "def customers(store_id: int, customers_per_store_cumulative: list()) -> int:\n",
    "    customer_id = random.choice(customers_per_store_cumulative[store_id])\n",
    "    return customer_id\n",
    "\n",
    "customers_udf = F.udf(customers, IntegerType())\n",
    "\n",
    "df2 = df2.withColumn(\"CustomerId\", customers_udf(df2[\"StoreId\"],F.lit(customers_per_store_cumulative)))\n",
    "display(df2)"
   ]
  },
  {
   "cell_type": "code",
   "execution_count": 0,
   "metadata": {
    "application/vnd.databricks.v1+cell": {
     "cellMetadata": {
      "byteLimit": 2048000,
      "rowLimit": 10000
     },
     "inputWidgets": {},
     "nuid": "855b18ea-3d3b-47ed-9ecd-eeee3b4bf224",
     "showTitle": false,
     "title": ""
    }
   },
   "outputs": [],
   "source": [
    "print([(i, j) for i, j in enumerate(customers_per_store)])"
   ]
  },
  {
   "cell_type": "code",
   "execution_count": 0,
   "metadata": {
    "application/vnd.databricks.v1+cell": {
     "cellMetadata": {
      "byteLimit": 2048000,
      "rowLimit": 10000
     },
     "inputWidgets": {},
     "nuid": "88ea4c4e-6437-499b-bc08-5fd55f7539aa",
     "showTitle": false,
     "title": ""
    }
   },
   "outputs": [],
   "source": [
    "df3_data_generator = (\n",
    "    dg.DataGenerator(spark, name=\"test_data_set3\", rows=row_count,\n",
    "                     partitions=partitions_requested, randomSeedMethod=\"hash_fieldname\", verbose=True)\n",
    "    .withIdOutput()\n",
    "    .withColumn(\"CustomerId\", IntegerType(), minValue=0, maxValue=unique_customers-1, random=True)\n",
    "    .withColumn(\"Timestamp\", TimestampType(), begin=\"2013-01-01 01:00:00\", end=\"2023-10-31 23:59:00\", interval=\"1 hour\", random=True)\n",
    "    .withColumn(\"Amount\", DecimalType(5, 2), expr=\"((rand() + 0.1) * 350)\")\n",
    ")\n",
    "\n",
    "df3 = df3_data_generator.build()\n",
    "\n",
    "display(df3)"
   ]
  },
  {
   "cell_type": "code",
   "execution_count": 0,
   "metadata": {
    "application/vnd.databricks.v1+cell": {
     "cellMetadata": {
      "byteLimit": 2048000,
      "rowLimit": 10000
     },
     "inputWidgets": {},
     "nuid": "bc748562-871c-4db3-9c1f-91749d343da4",
     "showTitle": false,
     "title": ""
    }
   },
   "outputs": [],
   "source": [
    "def stores(customer_id: int, customers_per_store_cumulative: list(), stores: list()) -> int:\n",
    "    for customer_ids, store_id in zip(customers_per_store_cumulative, stores):\n",
    "        if customer_id in customer_ids:\n",
    "            return store_id\n",
    "        \n",
    "stores_udf = F.udf(stores, IntegerType())\n",
    "\n",
    "stores = list(range(0,unique_stores))\n",
    "\n",
    "df3 = df3.withColumn(\"StoreId\", stores_udf(df3[\"CustomerId\"],F.lit(customers_per_store_cumulative),F.lit(stores)))\n",
    "df3 = df3.withColumn(\"EmployeeId\", employees_udf(df3[\"StoreId\"], F.lit(employees_per_store_cumulative)))\n",
    "\n",
    "display(df3)"
   ]
  },
  {
   "cell_type": "code",
   "execution_count": 0,
   "metadata": {
    "application/vnd.databricks.v1+cell": {
     "cellMetadata": {
      "byteLimit": 2048000,
      "rowLimit": 10000
     },
     "inputWidgets": {},
     "nuid": "c878176a-7110-48e2-8e24-163cf08cb943",
     "showTitle": false,
     "title": ""
    }
   },
   "outputs": [],
   "source": [
    "weight = 90\n",
    "remainder_weight = (100 - weight) / (unique_stores - 1)\n",
    "customers_list = list(range(unique_stores))\n",
    "\n",
    "def customers_weighted(store_id: int, weight: int, remainder_weight: int, customers_list: list(), customers_per_store_cumulative: list()) -> int:\n",
    "    weights = [weight if i == store_id else (1 * remainder_weight) for i in customers_list]\n",
    "    store_id_randomised = random.choices(customers_list, weights=weights, k=1)[0]\n",
    "    # customer_id = customers_per_store_cumulative[0]\n",
    "    customer_id = random.choice(customers_per_store_cumulative[store_id_randomised])\n",
    "    return customer_id\n",
    "\n",
    "customers_randomised_udf = F.udf(customers_weighted, IntegerType())\n",
    "\n",
    "df2 = df2.withColumn(\"CustomerId\", customers_randomised_udf(df2[\"StoreId\"],F.lit(weight),F.lit(remainder_weight),F.lit(customers_list),F.lit(customers_per_store_cumulative)))\n",
    "display(df2)"
   ]
  },
  {
   "cell_type": "code",
   "execution_count": 0,
   "metadata": {
    "application/vnd.databricks.v1+cell": {
     "cellMetadata": {
      "byteLimit": 2048000,
      "rowLimit": 10000
     },
     "inputWidgets": {},
     "nuid": "674886c4-6607-47b1-acd2-e2d5e84930bc",
     "showTitle": false,
     "title": ""
    }
   },
   "outputs": [],
   "source": [
    "weight = 90\n",
    "remainder_weight = (100 - weight) / (unique_stores - 1)\n",
    "stores = list(range(0,unique_stores))\n",
    "\n",
    "def stores_weighted(customer_id: int, weight: int, remainder_weight: int, customers_per_store_cumulative: list(), stores: list()) -> int:\n",
    "    for customer_ids, store_id in zip(customers_per_store_cumulative, stores):\n",
    "        if customer_id in customer_ids:\n",
    "            weights = [weight if i == store_id else (1 * remainder_weight) for i in customers_list]\n",
    "            store_id_randomised = random.choices(customers_list, weights=weights, k=1)[0]\n",
    "            return store_id_randomised\n",
    "        \n",
    "stores_randomised_udf = F.udf(stores_weighted, IntegerType())\n",
    "\n",
    "stores = list(range(0,unique_stores))\n",
    "\n",
    "df3 = df3.withColumn(\"StoreId\", stores_udf(df3[\"CustomerId\"],F.lit(customers_per_store_cumulative),F.lit(stores)))\n",
    "df3 = df3.withColumn(\"EmployeeId\", employees_udf(df3[\"StoreId\"], F.lit(employees_per_store_cumulative)))\n",
    "\n",
    "display(df3)"
   ]
  },
  {
   "cell_type": "code",
   "execution_count": 0,
   "metadata": {
    "application/vnd.databricks.v1+cell": {
     "cellMetadata": {
      "byteLimit": 2048000,
      "rowLimit": 10000
     },
     "inputWidgets": {},
     "nuid": "f7ba9ebc-4288-45f4-afab-77d0d4247b6c",
     "showTitle": false,
     "title": ""
    }
   },
   "outputs": [],
   "source": []
  }
 ],
 "metadata": {
  "application/vnd.databricks.v1+notebook": {
   "dashboards": [],
   "language": "python",
   "notebookMetadata": {
    "mostRecentlyExecutedCommandWithImplicitDF": {
     "commandId": 2290092903333444,
     "dataframes": [
      "_sqldf"
     ]
    },
    "pythonIndentUnit": 4
   },
   "notebookName": "Generate Data Demo (1)",
   "widgets": {}
  }
 },
 "nbformat": 4,
 "nbformat_minor": 0
}
